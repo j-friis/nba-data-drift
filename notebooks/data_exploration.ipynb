{
 "cells": [
  {
   "cell_type": "code",
   "execution_count": 2,
   "metadata": {},
   "outputs": [],
   "source": [
    "import pandas as pd\n",
    "from pathlib import Path"
   ]
  },
  {
   "cell_type": "code",
   "execution_count": null,
   "metadata": {},
   "outputs": [],
   "source": [
    "# Define the base directory and filename\n",
    "base_directory = Path.home() / 'projects' / 'nba_data_drift'\n",
    "data_directory = base_directory / 'data' / 'raw'\n",
    "filename = 'nba_games.csv'\n",
    "\n",
    "# Ensure the data directory exists\n",
    "data_directory.mkdir(parents=True, exist_ok=True)\n",
    "\n",
    "# Combine into a full path\n",
    "file_path = data_directory / filename\n",
    "\n",
    "print(f\"Data file path: {file_path}\")\n",
    "\n",
    "# Check if the file exists\n",
    "if file_path.exists():\n",
    "    print(f\"The file {file_path} exists.\")\n",
    "else:\n",
    "    print(f\"The file {file_path} does not exist.\")"
   ]
  }
 ],
 "metadata": {
  "kernelspec": {
   "display_name": "nba-data-drift-hYGubiEh-py3.10",
   "language": "python",
   "name": "python3"
  },
  "language_info": {
   "codemirror_mode": {
    "name": "ipython",
    "version": 3
   },
   "file_extension": ".py",
   "mimetype": "text/x-python",
   "name": "python",
   "nbconvert_exporter": "python",
   "pygments_lexer": "ipython3",
   "version": "3.10.12"
  }
 },
 "nbformat": 4,
 "nbformat_minor": 2
}
